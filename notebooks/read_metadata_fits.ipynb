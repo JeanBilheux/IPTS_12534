{
 "cells": [
  {
   "cell_type": "markdown",
   "metadata": {},
   "source": [
    "## Make all import"
   ]
  },
  {
   "cell_type": "code",
   "execution_count": 13,
   "metadata": {
    "collapsed": false
   },
   "outputs": [],
   "source": [
    "import pyfits\n",
    "import os\n",
    "import pprint\n",
    "\n",
    "from PyQt4 import QtCore, QtGui\n",
    "from IPython.display import display\n",
    "from ipywidgets import widgets"
   ]
  },
  {
   "cell_type": "markdown",
   "metadata": {},
   "source": [
    "## Default folder "
   ]
  },
  {
   "cell_type": "code",
   "execution_count": 18,
   "metadata": {
    "collapsed": false
   },
   "outputs": [],
   "source": [
    "default_dir = os.path.join('/Volumes','My Book Thunderbolt Duo', 'IPTS', 'IPTS-12534')\n",
    "assert os.path.isdir(default_dir)"
   ]
  },
  {
   "cell_type": "markdown",
   "metadata": {},
   "source": [
    "## Select raw files"
   ]
  },
  {
   "cell_type": "code",
   "execution_count": 19,
   "metadata": {
    "collapsed": true
   },
   "outputs": [],
   "source": [
    "%gui qt"
   ]
  },
  {
   "cell_type": "code",
   "execution_count": 22,
   "metadata": {
    "collapsed": true
   },
   "outputs": [],
   "source": [
    "from PyQt4 import QtCore, QtGui\n",
    "\n",
    "def gui_fname(dir=None):\n",
    "    \"\"\"Select a file via a dialog and returns the file name.\n",
    "    \"\"\"\n",
    "    if dir is None: dir ='./'\n",
    "    fname = QtGui.QFileDialog.getOpenFileNames(None, \"Select file...\", \n",
    "            dir, filter=\"FITS files (*.fits);; All files (*)\")\n",
    "    return fname"
   ]
  },
  {
   "cell_type": "code",
   "execution_count": 24,
   "metadata": {
    "collapsed": false
   },
   "outputs": [],
   "source": [
    "%gui qt\n",
    "list_files = gui_fname(dir=default_dir)\n",
    "%matplotlib inline"
   ]
  },
  {
   "cell_type": "markdown",
   "metadata": {},
   "source": [
    "## Retrieve metadata "
   ]
  },
  {
   "cell_type": "code",
   "execution_count": 34,
   "metadata": {
    "collapsed": false
   },
   "outputs": [],
   "source": [
    "file_0 = list_files[0]\n",
    "hdu_list= pyfits.open(file_0)\n",
    "hdu_0 = hdu_list[0]"
   ]
  },
  {
   "cell_type": "code",
   "execution_count": 32,
   "metadata": {
    "collapsed": false
   },
   "outputs": [
    {
     "name": "stdout",
     "output_type": "stream",
     "text": [
      "Filename: /Volumes/My Book Thunderbolt Duo/IPTS/IPTS-12534/36hr/20150616_image_36hr_diff_0040_0000.fits\n",
      "No.    Name         Type      Cards   Dimensions   Format\n",
      "0    PRIMARY     PrimaryHDU      60   (2048, 2048)   int16 (rescales to uint16)   \n"
     ]
    }
   ],
   "source": [
    "hdu_list.info()"
   ]
  },
  {
   "cell_type": "code",
   "execution_count": 37,
   "metadata": {
    "collapsed": false
   },
   "outputs": [
    {
     "data": {
      "text/plain": [
       "SIMPLE  =                    T / file does conform to FITS standard             \n",
       "BITPIX  =                   16 / number of bits per data pixel                  \n",
       "NAXIS   =                    2 / number of data axes                            \n",
       "NAXIS1  =                 2048 / length of data axis 1                          \n",
       "NAXIS2  =                 2048 / length of data axis 2                          \n",
       "EXTEND  =                    T / FITS dataset may contain extensions            \n",
       "COMMENT   FITS (Flexible Image Transport System) format is defined in 'Astronomy\n",
       "COMMENT   and Astrophysics', volume 376, page 359; bibcode: 2001A&A...376..359H \n",
       "BZERO   =                32768 / offset data range to that of unsigned short    \n",
       "BSCALE  =                    1 / default scaling factor                         \n",
       "HEAD    = 'DW936_BV'           / Head model                                     \n",
       "ACQMODE = 'Single Scan'        / Acquisition mode                               \n",
       "READMODE= 'Image   '           / Readout mode                                   \n",
       "IMGRECT = '1, 2048, 2048, 1'   / Image format                                   \n",
       "HBIN    =                    1 / Horizontal binning                             \n",
       "VBIN    =                    1 / Vertical binning                               \n",
       "SUBRECT = '1, 2048, 2048, 1'   / Subimage format                                \n",
       "DATATYPE= 'Counts  '           / Data type                                      \n",
       "XTYPE   = 'Pixel number'       / Calibration type                               \n",
       "XUNIT   =                    0 / Calibration units                              \n",
       "TRIGGER = 'Internal'           / Trigger mode                                   \n",
       "CALIB   = '0,1,0,0 '           / Calibration                                    \n",
       "DLLVER  = '2.93.30007.0'       / Software Version                               \n",
       "EXPOSURE=                  40. / Total Exposure Time                            \n",
       "TEMP    =                 -60. / Temperature                                    \n",
       "READTIME=              1.0E-06 / Pixel readout time                             \n",
       "OPERATN =                    4 / Type of system                                 \n",
       "GAIN    =                    0 / Gain                                           \n",
       "EMREALGN=                    0 / EM Real Gain                                   \n",
       "VCLKAMP =                    0 / Vertical Clock Amplitude                       \n",
       "VSHIFT  =            7.695E-05 / Vertical Shift Speed                           \n",
       "PREAMP  =                   1. / Pre Amplifier Gain                             \n",
       "SERNO   =                 9201 / Serial Number                                  \n",
       "UNSTTEMP=                -999. / Unstabilized Temperature                       \n",
       "BLCLAMP =                    F / Baseline Clamp                                 \n",
       "PRECAN  =                    0 / Prescans                                       \n",
       "FLIPX   =                    0 / Horizontally Flipped                           \n",
       "FLIPY   =                    0 / Vertically Flipped                             \n",
       "CNTCVTMD=                    0 / Count Convert Mode                             \n",
       "CNTCVT  =                    0 / Count Convert                                  \n",
       "DTNWLGTH=                 500. / Detection Wavelength                           \n",
       "SNTVTY  =                   0. / Sensitivity                                    \n",
       "SPSNFLTR=                    0 / Spurious Noise Filter Mode                     \n",
       "THRSHLD =                   0. / Threshold                                      \n",
       "PCNTENLD=                    0 / Photon Counting Enabled                        \n",
       "NSETHSLD=                    0 / Number of Photon Counting Thresholds           \n",
       "PTNTHLD1=                   0. / Photon Counting Threshold 1                    \n",
       "PTNTHLD2=                   0. / Photon Counting Threshold 2                    \n",
       "PTNTHLD3=                   0. / Photon Counting Threshold 3                    \n",
       "PTNTHLD4=                   0. / Photon Counting Threshold 4                    \n",
       "AVGFTRMD=                    0 / Averaging Filter Mode                          \n",
       "AVGFCTR =                    1 / Averaging factor                               \n",
       "FRMCNT  =                    1 / Frame Count                                    \n",
       "USERTXT1= '        '           / User text                                      \n",
       "USERTXT2= '        '           / User text                                      \n",
       "USERTXT3= '        '           / User text                                      \n",
       "USERTXT4= '        '           / User text                                      \n",
       "DATE    = '2015-06-18T10:20:59' / file creation date (YYYY-MM-DDThh:mm:ss)      \n",
       "FRAME   = '2015-06-18T10:20:59.000' / Start of Frame Exposure                   \n",
       "ESHTMODE=                    0 / Electronic Shuttering Mode                     "
      ]
     },
     "execution_count": 37,
     "metadata": {},
     "output_type": "execute_result"
    }
   ],
   "source": [
    "hdu_0.header\n"
   ]
  },
  {
   "cell_type": "code",
   "execution_count": 38,
   "metadata": {
    "collapsed": false
   },
   "outputs": [
    {
     "data": {
      "text/plain": [
       "40.0"
      ]
     },
     "execution_count": 38,
     "metadata": {},
     "output_type": "execute_result"
    }
   ],
   "source": [
    "hdu_0.header['EXPOSURE']"
   ]
  },
  {
   "cell_type": "code",
   "execution_count": 41,
   "metadata": {
    "collapsed": false
   },
   "outputs": [
    {
     "data": {
      "text/plain": [
       "'Total Exposure Time'"
      ]
     },
     "execution_count": 41,
     "metadata": {},
     "output_type": "execute_result"
    }
   ],
   "source": [
    "hdu_0.header.comments['EXPOSURE']"
   ]
  },
  {
   "cell_type": "markdown",
   "metadata": {},
   "source": [
    "### Select OB files"
   ]
  },
  {
   "cell_type": "code",
   "execution_count": 42,
   "metadata": {
    "collapsed": true
   },
   "outputs": [],
   "source": [
    "%gui qt\n",
    "list_ob_files = gui_fname(dir=default_dir)\n",
    "%matplotlib inline"
   ]
  },
  {
   "cell_type": "code",
   "execution_count": 44,
   "metadata": {
    "collapsed": false
   },
   "outputs": [
    {
     "data": {
      "text/plain": [
       "SIMPLE  =                    T / file does conform to FITS standard             \n",
       "BITPIX  =                   16 / number of bits per data pixel                  \n",
       "NAXIS   =                    2 / number of data axes                            \n",
       "NAXIS1  =                 2048 / length of data axis 1                          \n",
       "NAXIS2  =                 2048 / length of data axis 2                          \n",
       "EXTEND  =                    T / FITS dataset may contain extensions            \n",
       "COMMENT   FITS (Flexible Image Transport System) format is defined in 'Astronomy\n",
       "COMMENT   and Astrophysics', volume 376, page 359; bibcode: 2001A&A...376..359H \n",
       "BZERO   =                32768 / offset data range to that of unsigned short    \n",
       "BSCALE  =                    1 / default scaling factor                         \n",
       "HEAD    = 'DW936_BV'           / Head model                                     \n",
       "ACQMODE = 'Single Scan'        / Acquisition mode                               \n",
       "READMODE= 'Image   '           / Readout mode                                   \n",
       "IMGRECT = '1, 2048, 2048, 1'   / Image format                                   \n",
       "HBIN    =                    1 / Horizontal binning                             \n",
       "VBIN    =                    1 / Vertical binning                               \n",
       "SUBRECT = '1, 2048, 2048, 1'   / Subimage format                                \n",
       "DATATYPE= 'Counts  '           / Data type                                      \n",
       "XTYPE   = 'Pixel number'       / Calibration type                               \n",
       "XUNIT   =                    0 / Calibration units                              \n",
       "TRIGGER = 'Internal'           / Trigger mode                                   \n",
       "CALIB   = '0,1,0,0 '           / Calibration                                    \n",
       "DLLVER  = '2.93.30007.0'       / Software Version                               \n",
       "EXPOSURE=                  40. / Total Exposure Time                            \n",
       "TEMP    =                 -60. / Temperature                                    \n",
       "READTIME=              1.0E-06 / Pixel readout time                             \n",
       "OPERATN =                    4 / Type of system                                 \n",
       "GAIN    =                    0 / Gain                                           \n",
       "EMREALGN=                    0 / EM Real Gain                                   \n",
       "VCLKAMP =                    0 / Vertical Clock Amplitude                       \n",
       "VSHIFT  =            7.695E-05 / Vertical Shift Speed                           \n",
       "PREAMP  =                   1. / Pre Amplifier Gain                             \n",
       "SERNO   =                 9201 / Serial Number                                  \n",
       "UNSTTEMP=                -999. / Unstabilized Temperature                       \n",
       "BLCLAMP =                    F / Baseline Clamp                                 \n",
       "PRECAN  =                    0 / Prescans                                       \n",
       "FLIPX   =                    0 / Horizontally Flipped                           \n",
       "FLIPY   =                    0 / Vertically Flipped                             \n",
       "CNTCVTMD=                    0 / Count Convert Mode                             \n",
       "CNTCVT  =                    0 / Count Convert                                  \n",
       "DTNWLGTH=                 500. / Detection Wavelength                           \n",
       "SNTVTY  =                   0. / Sensitivity                                    \n",
       "SPSNFLTR=                    0 / Spurious Noise Filter Mode                     \n",
       "THRSHLD =                   0. / Threshold                                      \n",
       "PCNTENLD=                    0 / Photon Counting Enabled                        \n",
       "NSETHSLD=                    0 / Number of Photon Counting Thresholds           \n",
       "PTNTHLD1=                   0. / Photon Counting Threshold 1                    \n",
       "PTNTHLD2=                   0. / Photon Counting Threshold 2                    \n",
       "PTNTHLD3=                   0. / Photon Counting Threshold 3                    \n",
       "PTNTHLD4=                   0. / Photon Counting Threshold 4                    \n",
       "AVGFTRMD=                    0 / Averaging Filter Mode                          \n",
       "AVGFCTR =                    1 / Averaging factor                               \n",
       "FRMCNT  =                    1 / Frame Count                                    \n",
       "USERTXT1= '        '           / User text                                      \n",
       "USERTXT2= '        '           / User text                                      \n",
       "USERTXT3= '        '           / User text                                      \n",
       "USERTXT4= '        '           / User text                                      \n",
       "DATE    = '2015-06-18T15:34:01' / file creation date (YYYY-MM-DDThh:mm:ss)      \n",
       "FRAME   = '2015-06-18T15:34:01.000' / Start of Frame Exposure                   \n",
       "ESHTMODE=                    0 / Electronic Shuttering Mode                     "
      ]
     },
     "execution_count": 44,
     "metadata": {},
     "output_type": "execute_result"
    }
   ],
   "source": [
    "ob_0 = list_ob_files[0]\n",
    "ob_hdu_list= pyfits.open(ob_0)\n",
    "ob_hdu_0 = ob_hdu_list[0]\n",
    "ob_hdu_0.header"
   ]
  },
  {
   "cell_type": "markdown",
   "metadata": {},
   "source": [
    "### Recap Exposure time"
   ]
  },
  {
   "cell_type": "code",
   "execution_count": 45,
   "metadata": {
    "collapsed": false
   },
   "outputs": [
    {
     "name": "stdout",
     "output_type": "stream",
     "text": [
      "Data exposure time (s): 40.0\n",
      "OB exposure time (s): 40.0\n"
     ]
    }
   ],
   "source": [
    "print(\"Data exposure time (s): {}\".format(hdu_0.header['EXPOSURE']))\n",
    "print(\"OB exposure time (s): {}\".format(ob_hdu_0.header['EXPOSURE']))"
   ]
  },
  {
   "cell_type": "code",
   "execution_count": null,
   "metadata": {
    "collapsed": true
   },
   "outputs": [],
   "source": []
  }
 ],
 "metadata": {
  "kernelspec": {
   "display_name": "Python 3",
   "language": "python",
   "name": "python3"
  },
  "language_info": {
   "codemirror_mode": {
    "name": "ipython",
    "version": 3
   },
   "file_extension": ".py",
   "mimetype": "text/x-python",
   "name": "python",
   "nbconvert_exporter": "python",
   "pygments_lexer": "ipython3",
   "version": "3.5.2"
  }
 },
 "nbformat": 4,
 "nbformat_minor": 0
}
